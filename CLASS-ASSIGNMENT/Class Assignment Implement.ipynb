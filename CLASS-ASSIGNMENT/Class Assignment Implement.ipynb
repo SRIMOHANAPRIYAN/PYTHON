{
 "cells": [
  {
   "cell_type": "code",
   "execution_count": 1,
   "id": "1e623ccd-7bc7-46c3-b35b-94099ac0e363",
   "metadata": {},
   "outputs": [],
   "source": [
    "from ClassAssignment import ClassAssignment"
   ]
  },
  {
   "cell_type": "code",
   "execution_count": 9,
   "id": "3eddcb02-7252-4c7d-b0d2-d0618b8b811a",
   "metadata": {},
   "outputs": [
    {
     "name": "stdin",
     "output_type": "stream",
     "text": [
      "Subject1:  98\n",
      "Subject2:  87\n",
      "Subject3:  95\n",
      "Subject4:  95\n",
      "Subject5:  93\n"
     ]
    },
    {
     "name": "stdout",
     "output_type": "stream",
     "text": [
      "Total:  468\n",
      "Percentage:  93.60000000000001\n"
     ]
    },
    {
     "data": {
      "text/plain": [
       "('Percentage: ', 93.60000000000001)"
      ]
     },
     "execution_count": 9,
     "metadata": {},
     "output_type": "execute_result"
    }
   ],
   "source": [
    "ClassAssignment.FindPercentage()"
   ]
  },
  {
   "cell_type": "code",
   "execution_count": 8,
   "id": "456e3668-1632-46cd-a9c4-0bbe12fbd3bd",
   "metadata": {},
   "outputs": [
    {
     "name": "stdin",
     "output_type": "stream",
     "text": [
      "Enter a number: 52452\n"
     ]
    },
    {
     "name": "stdout",
     "output_type": "stream",
     "text": [
      "52452 is even number\n"
     ]
    }
   ],
   "source": [
    "ClassAssignment.oddEven()"
   ]
  },
  {
   "cell_type": "code",
   "execution_count": 5,
   "id": "4cb30246-82e4-4729-aa58-dd430445d99a",
   "metadata": {},
   "outputs": [
    {
     "name": "stdout",
     "output_type": "stream",
     "text": [
      "Subfields in AI are: \n",
      "Machine Learning\n",
      "Neural Network\n",
      "Vision\n",
      "Robotics\n",
      "Speech Processing\n",
      "Natural Language Processing\n"
     ]
    },
    {
     "data": {
      "text/plain": [
       "'Natural Language Processing'"
      ]
     },
     "execution_count": 5,
     "metadata": {},
     "output_type": "execute_result"
    }
   ],
   "source": [
    "ClassAssignment.subfields()"
   ]
  },
  {
   "cell_type": "code",
   "execution_count": 10,
   "id": "0df6f633-26bf-4ef6-8513-9b1c367dd693",
   "metadata": {},
   "outputs": [
    {
     "name": "stdin",
     "output_type": "stream",
     "text": [
      "Height: 32\n",
      "Weight: 34\n"
     ]
    },
    {
     "name": "stdout",
     "output_type": "stream",
     "text": [
      "Area formula :(Height*Weight)/2\n",
      "Area of triangle: 544.0\n"
     ]
    },
    {
     "name": "stdin",
     "output_type": "stream",
     "text": [
      "Height1: 2\n",
      "Height2: 4\n",
      "Breath: 4\n"
     ]
    },
    {
     "name": "stdout",
     "output_type": "stream",
     "text": [
      "perimeter formula: Height1+Height2+Breath\n",
      "perimeter of triangle: 10\n"
     ]
    },
    {
     "data": {
      "text/plain": [
       "('perimeter of triangle:', 10)"
      ]
     },
     "execution_count": 10,
     "metadata": {},
     "output_type": "execute_result"
    }
   ],
   "source": [
    "ClassAssignment.triangle()"
   ]
  },
  {
   "cell_type": "code",
   "execution_count": 7,
   "id": "b222ca4b-c2c7-491f-afbf-00c484d3727c",
   "metadata": {},
   "outputs": [
    {
     "name": "stdin",
     "output_type": "stream",
     "text": [
      "Your gender:  male\n",
      "Your age:  20\n"
     ]
    },
    {
     "name": "stdout",
     "output_type": "stream",
     "text": [
      "Not eligible\n"
     ]
    }
   ],
   "source": [
    "ClassAssignment.MarriageEligibility()"
   ]
  },
  {
   "cell_type": "code",
   "execution_count": null,
   "id": "a2e67593-de6f-4fc6-a53e-b5045e4102f3",
   "metadata": {},
   "outputs": [],
   "source": []
  }
 ],
 "metadata": {
  "kernelspec": {
   "display_name": "Python [conda env:base] *",
   "language": "python",
   "name": "conda-base-py"
  },
  "language_info": {
   "codemirror_mode": {
    "name": "ipython",
    "version": 3
   },
   "file_extension": ".py",
   "mimetype": "text/x-python",
   "name": "python",
   "nbconvert_exporter": "python",
   "pygments_lexer": "ipython3",
   "version": "3.13.5"
  }
 },
 "nbformat": 4,
 "nbformat_minor": 5
}
