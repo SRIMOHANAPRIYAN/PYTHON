{
 "cells": [
  {
   "cell_type": "code",
   "execution_count": 1,
   "id": "6834deb8-f5ff-4c6b-8bc8-565abf243d05",
   "metadata": {},
   "outputs": [
    {
     "name": "stdin",
     "output_type": "stream",
     "text": [
      "Enter the transaction amount:  25000\n"
     ]
    },
    {
     "name": "stdout",
     "output_type": "stream",
     "text": [
      "Rs. 25000.0 was deposited successfully.\n"
     ]
    }
   ],
   "source": [
    "# You are developing a banking application that categorizes transactions based on the amount entered.\n",
    "# Write logic to determine whether the amount is positive, negative, or zero.\n",
    "\n",
    "Amount=float(input(\"Enter the transaction amount: \"))\n",
    "if(Amount>0):\n",
    "    print(\"Rs.\",Amount,\"was deposited successfully.\")\n",
    "elif(Amount<0):\n",
    "    print(\"Rs.\",Amount,\"was debited successfully.\")\n",
    "else:\n",
    "    print(\"No Transaction\")"
   ]
  },
  {
   "cell_type": "code",
   "execution_count": 2,
   "id": "0b96e747-dd80-4795-9bdf-c2a509de145e",
   "metadata": {},
   "outputs": [
    {
     "name": "stdin",
     "output_type": "stream",
     "text": [
      "Enter the passcode 45678\n"
     ]
    },
    {
     "name": "stdout",
     "output_type": "stream",
     "text": [
      "The sum of digits of 45678 is: 30\n"
     ]
    }
   ],
   "source": [
    "# A digital locker requires users to enter a numerical passcode. As part of a security feature, the system checks the sum of the digits of the passcode.\n",
    "# Write logic to compute the sum of the digits of a given number.\n",
    "\n",
    "def sum_digits(numbers):\n",
    "    num_str=str(number)\n",
    "    total=0\n",
    "    for digit in num_str:\n",
    "        total+=int(digit)\n",
    "    return total\n",
    "number=int(input(\"Enter the passcode\"))\n",
    "result=sum_digits(number)\n",
    "print(\"The sum of digits of\",number,\"is:\",result)"
   ]
  },
  {
   "cell_type": "code",
   "execution_count": 3,
   "id": "a015d916-be9d-4d7c-bdf9-32aa98d0688a",
   "metadata": {},
   "outputs": [
    {
     "name": "stdin",
     "output_type": "stream",
     "text": [
      "Enter transcation id: 7894\n"
     ]
    },
    {
     "name": "stdout",
     "output_type": "stream",
     "text": [
      "Original ID 7894\n",
      "Reversed ID 4987\n"
     ]
    }
   ],
   "source": [
    "# A mobile payment app uses a simple checksum validation where reversing a transaction ID helps detect fraud.\n",
    "# Write logic to take a number and return its reverse.\n",
    "\n",
    "def reverse_number(n):\n",
    "    reversed_num = 0\n",
    "    is_negative = False\n",
    "    if n < 0:\n",
    "        is_negative = True\n",
    "        n = abs(n)\n",
    "    while n > 0:\n",
    "        last_digit = n % 10\n",
    "        reversed_num = (reversed_num * 10) + last_digit\n",
    "        n = n // 10\n",
    "    if is_negative:\n",
    "        return -reversed_num\n",
    "    else:\n",
    "        return reversed_num\n",
    "transaction_id =int(input(\"Enter transcation id:\"))\n",
    "reversed_id = reverse_number(transaction_id)\n",
    "print(\"Original ID\",transaction_id)\n",
    "print(\"Reversed ID\",reversed_id)"
   ]
  },
  {
   "cell_type": "code",
   "execution_count": 4,
   "id": "31d4a593-799b-47b3-bc2d-444947f7f1cb",
   "metadata": {},
   "outputs": [
    {
     "name": "stdin",
     "output_type": "stream",
     "text": [
      "Enter a number:  7\n"
     ]
    },
    {
     "name": "stdout",
     "output_type": "stream",
     "text": [
      "7 is a prime number!\n"
     ]
    }
   ],
   "source": [
    "# In a secure login system, certain features are enabled only for users with prime-numbered user IDs.\n",
    "# Write logic to check if a given number is prime.\n",
    "\n",
    "def is_prime(number):\n",
    "    if number <= 1:\n",
    "        return False\n",
    "    for i in range(2, int(number ** 0.5) + 1):\n",
    "        if number % i == 0:  \n",
    "            return False\n",
    "    return True\n",
    "num = int(input(\"Enter a number: \"))\n",
    "if is_prime(num):\n",
    "    print(num,\"is a prime number!\")\n",
    "else:\n",
    "    print(num,\"is not a prime number.\")"
   ]
  },
  {
   "cell_type": "code",
   "execution_count": 11,
   "id": "db7b6816-719c-4bb1-aee9-0e3c80c62973",
   "metadata": {},
   "outputs": [
    {
     "name": "stdin",
     "output_type": "stream",
     "text": [
      "Enter the number: 5\n"
     ]
    },
    {
     "name": "stdout",
     "output_type": "stream",
     "text": [
      "The factorial for given number is: 120\n"
     ]
    }
   ],
   "source": [
    "# A scientist is working on permutations and needs to calculate the factorial of numbers frequently.\n",
    "# Write logic to find the factorial of a given number using recursion.\n",
    "\n",
    "def factorial(num):\n",
    "    if num==0 or num==1:\n",
    "        return 1\n",
    "    result=1\n",
    "    for i in range(1,num+1):\n",
    "        result=result*i\n",
    "    return result\n",
    "num=int(input(\"Enter the number:\"))\n",
    "if num<0:\n",
    "    print(\"Factorial is not defined for negative numbers\")\n",
    "else:\n",
    "    result=factorial(num)\n",
    "    print(\"The factorial for given number is:\",result)"
   ]
  },
  {
   "cell_type": "code",
   "execution_count": 6,
   "id": "8a0607fc-8b42-4924-907f-3b28cc4dd297",
   "metadata": {},
   "outputs": [
    {
     "name": "stdin",
     "output_type": "stream",
     "text": [
      "Enter the number: 153\n"
     ]
    },
    {
     "name": "stdout",
     "output_type": "stream",
     "text": [
      "153 is a armstrong number\n"
     ]
    }
   ],
   "source": [
    "# A unique lottery system assigns ticket numbers where only Armstrong numbers win the jackpot.\n",
    "# Write logic to check whether a given number is an Armstrong number.\n",
    "\n",
    "num=int(input(\"Enter the number:\"))\n",
    "num_str=str(num)\n",
    "num_digits=len(num_str)\n",
    "sum_digit=0\n",
    "for digit in num_str:\n",
    "    sum_digit+=int(digit)**num_digits\n",
    "if(sum_digit==num):\n",
    "    print(num,\"is a armstrong number\")\n",
    "else:\n",
    "    print(num,\"is not a armstrong number\")"
   ]
  },
  {
   "cell_type": "code",
   "execution_count": 7,
   "id": "5a53864c-ba48-4823-98c1-1d8cec490b8f",
   "metadata": {},
   "outputs": [
    {
     "name": "stdin",
     "output_type": "stream",
     "text": [
      "Enter your password: python\n"
     ]
    },
    {
     "name": "stdout",
     "output_type": "stream",
     "text": [
      "Modified password is: nythop\n"
     ]
    }
   ],
   "source": [
    "# A password manager needs to strengthen weak passwords by swapping the first and last characters of user-generated passwords.\n",
    "# Write logic to perform this operation on a given string.\n",
    "\n",
    "def password_swap(password):\n",
    "    if len(password)==0:\n",
    "        return \"Error: Password can't be empty\"\n",
    "    if len(password)==1:\n",
    "        return password\n",
    "    first_letter=password[-1]\n",
    "    middle_letter=password[1:-1]\n",
    "    last_letter=password[0]\n",
    "    new_password=first_letter+middle_letter+last_letter\n",
    "    return new_password\n",
    "\n",
    "password=input(\"Enter your password:\")\n",
    "result=password_swap(password)\n",
    "print(\"Modified password is:\",result)\n"
   ]
  },
  {
   "cell_type": "code",
   "execution_count": 8,
   "id": "6132336b-354f-4f8e-b9cd-2a2828eb53d2",
   "metadata": {},
   "outputs": [
    {
     "name": "stdin",
     "output_type": "stream",
     "text": [
      "Enter a decimal number: 13\n"
     ]
    },
    {
     "name": "stdout",
     "output_type": "stream",
     "text": [
      "Binary of 13 is: 1101\n"
     ]
    }
   ],
   "source": [
    "# A low-level networking application requires decimal numbers to be converted into binary format before transmission.\n",
    "# Write logic to convert a given decimal number into its binary equivalent.\n",
    "\n",
    "def decimal_binary(num):\n",
    "    if num==0:\n",
    "        return \"0\"\n",
    "    binary=\"\"\n",
    "    while num>0:\n",
    "        binary=str(num%2)+binary\n",
    "        num//=2\n",
    "    return binary\n",
    "num=int(input(\"Enter a decimal number:\"))\n",
    "if num<0:\n",
    "    print(\"Please enter a valid number\")\n",
    "else:\n",
    "    result=decimal_binary(num)\n",
    "    print(\"Binary of\",num,\"is:\",result)"
   ]
  },
  {
   "cell_type": "code",
   "execution_count": 9,
   "id": "f2e2ee51-3ee6-45fb-8f30-8dcb6fd0bb2d",
   "metadata": {},
   "outputs": [
    {
     "name": "stdin",
     "output_type": "stream",
     "text": [
      "Enter a sentence:  i love python\n"
     ]
    },
    {
     "name": "stdout",
     "output_type": "stream",
     "text": [
      "The longest word is: python\n"
     ]
    }
   ],
   "source": [
    "# A text-processing tool helps summarize articles by identifying the most significant words.\n",
    "# Write logic to find the longest word in a sentence.\n",
    "\n",
    "def longest_word(sentence):\n",
    "    if not sentence or sentence.isspace():\n",
    "        return \"Error: Sentence must not empty or white space\"\n",
    "    words=sentence.split()\n",
    "    longest_word=words[0]\n",
    "    max_length=len(words[0])\n",
    "    for word in words:\n",
    "        if len(word)>max_length:\n",
    "            longest_word=word\n",
    "            max_length=len(word)\n",
    "    return longest_word\n",
    "sentence = input(\"Enter a sentence: \")\n",
    "result = longest_word(sentence)\n",
    "print(\"The longest word is:\",result)"
   ]
  },
  {
   "cell_type": "code",
   "execution_count": 10,
   "id": "9083dbd2-4275-462a-b533-e03bc8fff052",
   "metadata": {},
   "outputs": [
    {
     "name": "stdin",
     "output_type": "stream",
     "text": [
      "Enter the first string:  listen\n",
      "Enter the second string:  silent\n"
     ]
    },
    {
     "name": "stdout",
     "output_type": "stream",
     "text": [
      "listen and silent are anagrams\n"
     ]
    }
   ],
   "source": [
    "# A plagiarism detection tool compares words from different documents and checks if they are anagrams (same characters but different order).\n",
    "# Write logic to check whether two given strings are anagrams.\n",
    "\n",
    "def are_anagrams(str1, str2):\n",
    "    if not str1 or not str2 or str1.isspace() or str2.isspace():\n",
    "        return \"Error: Strings cannot be empty or just whitespace\"\n",
    "    str1_clean = str1.lower().replace(\" \", \"\")\n",
    "    str2_clean = str2.lower().replace(\" \", \"\")\n",
    "    if len(str1_clean) != len(str2_clean):\n",
    "        return False\n",
    "    sorted_str1 = sorted(str1_clean)\n",
    "    sorted_str2 = sorted(str2_clean)\n",
    "    return sorted_str1 == sorted_str2\n",
    "\n",
    "str1 = input(\"Enter the first string: \")\n",
    "str2 = input(\"Enter the second string: \")\n",
    "result = are_anagrams(str1, str2)\n",
    "if result == \"Error: Strings cannot be empty or just whitespace\":\n",
    "    print(result)\n",
    "elif result:\n",
    "    print(str1,\"and\",str2,\"are anagrams\")\n",
    "else:\n",
    "    print(str1,\"and\",str2,\"are not anagrams\")\n"
   ]
  }
 ],
 "metadata": {
  "kernelspec": {
   "display_name": "Python [conda env:base] *",
   "language": "python",
   "name": "conda-base-py"
  },
  "language_info": {
   "codemirror_mode": {
    "name": "ipython",
    "version": 3
   },
   "file_extension": ".py",
   "mimetype": "text/x-python",
   "name": "python",
   "nbconvert_exporter": "python",
   "pygments_lexer": "ipython3",
   "version": "3.13.5"
  }
 },
 "nbformat": 4,
 "nbformat_minor": 5
}
