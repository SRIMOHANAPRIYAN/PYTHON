{
 "cells": [
  {
   "cell_type": "code",
   "execution_count": 1,
   "id": "aba1475d",
   "metadata": {},
   "outputs": [
    {
     "name": "stdin",
     "output_type": "stream",
     "text": [
      "Enter the word: hello\n"
     ]
    },
    {
     "name": "stdout",
     "output_type": "stream",
     "text": [
      "olleh\n"
     ]
    }
   ],
   "source": [
    "# 1.Write a Python program to find the reverse of a string. Expected Output (for input \"hello\"):\n",
    "# olleh\n",
    "\n",
    "def reverse_string(string):\n",
    "    return string[::-1]\n",
    "string=input(\"Enter the word:\")\n",
    "result=reverse_string(string)\n",
    "print (result)"
   ]
  },
  {
   "cell_type": "code",
   "execution_count": 2,
   "id": "5b1ec143",
   "metadata": {},
   "outputs": [
    {
     "name": "stdout",
     "output_type": "stream",
     "text": [
      "0 1 1 2 3 5 8 13 21 34\n"
     ]
    }
   ],
   "source": [
    "# 2.Write a Python program to generate the Fibonacci sequence up to 10 terms.\n",
    "# Expected Output:\n",
    "# 0 1 1 2 3 5 8 13 21 34\n",
    "\n",
    "def fibonacci(n):\n",
    "    a, b = 0, 1\n",
    "    sequence = []\n",
    "    if n <= 0:\n",
    "        return sequence\n",
    "    sequence.append(a)\n",
    "    if n > 1:\n",
    "        sequence.append(b)\n",
    "    for c in range(2, n):\n",
    "        c = a + b  \n",
    "        sequence.append(c)\n",
    "        a = b      \n",
    "        b = c      \n",
    "    return sequence\n",
    "terms = 10\n",
    "result = fibonacci(terms)\n",
    "print(\" \".join(map(str, result)))\n",
    "\n"
   ]
  },
  {
   "cell_type": "code",
   "execution_count": 3,
   "id": "c656f04a",
   "metadata": {},
   "outputs": [
    {
     "name": "stdin",
     "output_type": "stream",
     "text": [
      "Enter the word madam\n"
     ]
    },
    {
     "name": "stdout",
     "output_type": "stream",
     "text": [
      "madam is a palindrome\n"
     ]
    }
   ],
   "source": [
    "# 3.Write a Python function to check if a given string is a palindrome.\n",
    "# Expected Output (for input \"madam\"):\n",
    "# madam is a palindrome\n",
    "\n",
    "string=input(\"Enter the word\")\n",
    "if (string==string[::-1]):\n",
    "    print(string,\"is a palindrome\")\n",
    "else:\n",
    "    print(string,\"is not a palindrome\")\n",
    "\n"
   ]
  },
  {
   "cell_type": "code",
   "execution_count": 4,
   "id": "cd7b0a78",
   "metadata": {},
   "outputs": [
    {
     "name": "stdin",
     "output_type": "stream",
     "text": [
      "Enter a string:  education\n"
     ]
    },
    {
     "name": "stdout",
     "output_type": "stream",
     "text": [
      "Number of vowels: 5\n"
     ]
    }
   ],
   "source": [
    "# 4.Write a Python program to count the number of vowels in a given string. \n",
    "# Expected Output (for input \"education\"): Number of vowels: 5\n",
    "    \n",
    "def count_vowels(s):\n",
    "    vowels = {'a', 'e', 'i', 'o', 'u', 'A', 'E', 'I', 'O', 'U'}\n",
    "    vowel_count = 0\n",
    "    for char in s:\n",
    "        if char in vowels:\n",
    "            vowel_count += 1\n",
    "    return vowel_count\n",
    "string = input(\"Enter a string: \")\n",
    "result = count_vowels(string)\n",
    "print(\"Number of vowels:\",result)"
   ]
  },
  {
   "cell_type": "code",
   "execution_count": 5,
   "id": "bdbb9b19",
   "metadata": {},
   "outputs": [
    {
     "name": "stdout",
     "output_type": "stream",
     "text": [
      "[1, 2, 3, 4, 5]\n"
     ]
    }
   ],
   "source": [
    "# 5.Write a Python program to remove duplicates from a list.\n",
    "# Expected Output (for input [1, 2, 2, 3, 4, 4, 5]): [1, 2, 3, 4, 5]\n",
    "\n",
    "def remove_duplicates(input_list):\n",
    "    if not input_list:\n",
    "        return []\n",
    "    seen = []\n",
    "    for item in input_list:\n",
    "        if item not in seen:\n",
    "            seen.append(item)\n",
    "    return seen\n",
    "input_list = [1, 2, 2, 3, 4, 4, 5]\n",
    "result = remove_duplicates(input_list)\n",
    "print(result)"
   ]
  }
 ],
 "metadata": {
  "kernelspec": {
   "display_name": "Python [conda env:base] *",
   "language": "python",
   "name": "conda-base-py"
  },
  "language_info": {
   "codemirror_mode": {
    "name": "ipython",
    "version": 3
   },
   "file_extension": ".py",
   "mimetype": "text/x-python",
   "name": "python",
   "nbconvert_exporter": "python",
   "pygments_lexer": "ipython3",
   "version": "3.13.5"
  }
 },
 "nbformat": 4,
 "nbformat_minor": 5
}
