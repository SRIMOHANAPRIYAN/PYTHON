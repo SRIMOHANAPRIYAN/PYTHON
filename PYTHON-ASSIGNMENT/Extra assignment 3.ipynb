{
 "cells": [
  {
   "cell_type": "code",
   "execution_count": 3,
   "id": "e6263f91-038f-4034-bfcd-535baa53a1c7",
   "metadata": {},
   "outputs": [
    {
     "name": "stdin",
     "output_type": "stream",
     "text": [
      "Value: 10\n"
     ]
    },
    {
     "name": "stdout",
     "output_type": "stream",
     "text": [
      "Correct\n"
     ]
    }
   ],
   "source": [
    "i=10\n",
    "value=input(\"Value:\")\n",
    "if i==10:\n",
    "    print(\"Correct\")\n",
    "else:\n",
    "    print(\"Wrong\")"
   ]
  },
  {
   "cell_type": "code",
   "execution_count": 7,
   "id": "7ccbdcf2-d05e-4cc3-9b75-408d9fefdf9a",
   "metadata": {},
   "outputs": [
    {
     "name": "stdin",
     "output_type": "stream",
     "text": [
      "Enter your password: HOPE@123\n"
     ]
    },
    {
     "name": "stdout",
     "output_type": "stream",
     "text": [
      "Your password is correct\n"
     ]
    }
   ],
   "source": [
    "p=\"HOPE@123\"\n",
    "password=input(\"Enter your password:\")\n",
    "if p==\"HOPE@123\":\n",
    "    print(\"Your password is correct\")\n",
    "else:\n",
    "    print(\"Your password is wrong\")"
   ]
  },
  {
   "cell_type": "code",
   "execution_count": 8,
   "id": "46ca4627-cb75-4a29-bc4e-1822b7575262",
   "metadata": {},
   "outputs": [
    {
     "name": "stdin",
     "output_type": "stream",
     "text": [
      "age: 20\n"
     ]
    },
    {
     "name": "stdout",
     "output_type": "stream",
     "text": [
      "Adult\n"
     ]
    }
   ],
   "source": [
    "age=int(input(\"age:\"))\n",
    "if age<18:\n",
    "    print(\"children\")\n",
    "elif age<30:\n",
    "    print(\"Adult\")\n",
    "else:\n",
    "    print(\"citizen\")"
   ]
  },
  {
   "cell_type": "code",
   "execution_count": 15,
   "id": "3f353a6a-3c54-4d6c-91b3-a33017835b79",
   "metadata": {},
   "outputs": [
    {
     "name": "stdin",
     "output_type": "stream",
     "text": [
      "Enter any number: 1\n"
     ]
    },
    {
     "name": "stdout",
     "output_type": "stream",
     "text": [
      "No is positive\n"
     ]
    }
   ],
   "source": [
    "\n",
    "num_str = input(\"Enter any number:\")\n",
    "try:\n",
    "    num = int(num_str)\n",
    "    if num > 0:\n",
    "        print(\"No is positive\")\n",
    "    elif num < 0:\n",
    "        print(\"No is negative\")\n",
    "    else:\n",
    "        print(\"No is zero\")\n",
    "\n",
    "except ValueError:\n",
    "    print(\"Invalid input. Please enter a valid integer.\")"
   ]
  },
  {
   "cell_type": "code",
   "execution_count": 16,
   "id": "dd1ce2e9-3df4-4350-9410-5d4b8a0ff17f",
   "metadata": {},
   "outputs": [
    {
     "name": "stdin",
     "output_type": "stream",
     "text": [
      "Enter any number to check: 22\n"
     ]
    },
    {
     "name": "stdout",
     "output_type": "stream",
     "text": [
      "No is not divisible by 5\n"
     ]
    }
   ],
   "source": [
    "num=int(input(\"Enter any number to check:\"))\n",
    "if num%5==0:\n",
    "    print(\"No is divisible by 5\")\n",
    "else:\n",
    "    print(\"No is not divisible by 5\")"
   ]
  }
 ],
 "metadata": {
  "kernelspec": {
   "display_name": "Python [conda env:base] *",
   "language": "python",
   "name": "conda-base-py"
  },
  "language_info": {
   "codemirror_mode": {
    "name": "ipython",
    "version": 3
   },
   "file_extension": ".py",
   "mimetype": "text/x-python",
   "name": "python",
   "nbconvert_exporter": "python",
   "pygments_lexer": "ipython3",
   "version": "3.13.5"
  }
 },
 "nbformat": 4,
 "nbformat_minor": 5
}
