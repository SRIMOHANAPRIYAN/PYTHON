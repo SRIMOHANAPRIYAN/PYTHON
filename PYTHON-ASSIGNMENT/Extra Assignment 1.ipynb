{
 "cells": [
  {
   "cell_type": "code",
   "execution_count": 1,
   "id": "bd3632af-91ab-44be-a684-ecd6ceb43958",
   "metadata": {},
   "outputs": [
    {
     "name": "stdout",
     "output_type": "stream",
     "text": [
      "Hope AI\n"
     ]
    }
   ],
   "source": [
    "print(\"Hope AI\")"
   ]
  },
  {
   "cell_type": "code",
   "execution_count": 4,
   "id": "1e2f1c33-d701-4b0a-86a8-d9e9b519b10f",
   "metadata": {},
   "outputs": [
    {
     "name": "stdin",
     "output_type": "stream",
     "text": [
      "Enter your institute name?: Hope AI\n"
     ]
    }
   ],
   "source": [
    "name=input(\"Enter your institute name?:\")"
   ]
  },
  {
   "cell_type": "code",
   "execution_count": 3,
   "id": "d14a2a9c-088c-49c1-9c92-3ef1f7d603be",
   "metadata": {},
   "outputs": [
    {
     "name": "stdin",
     "output_type": "stream",
     "text": [
      "Enter your name:  mohan\n",
      "Enter your age:  22\n",
      "Enter your school name:  lakshmi school\n",
      "Enter your degree:  B.E ECE\n"
     ]
    }
   ],
   "source": [
    "name = input(\"Enter your name: \")\n",
    "age = input(\"Enter your age: \")\n",
    "school_name = input(\"Enter your school name: \")\n",
    "degree = input(\"Enter your degree: \") "
   ]
  },
  {
   "cell_type": "code",
   "execution_count": 5,
   "id": "0885824b-71c1-4981-92ff-da1df2878016",
   "metadata": {},
   "outputs": [
    {
     "name": "stdout",
     "output_type": "stream",
     "text": [
      "43\n",
      "34\n",
      "Add: 77\n"
     ]
    }
   ],
   "source": [
    "a=43\n",
    "b=34\n",
    "add=a+b\n",
    "print(a)\n",
    "print(b)\n",
    "print(\"Add:\",add)"
   ]
  },
  {
   "cell_type": "code",
   "execution_count": 6,
   "id": "30831ff8-6b36-47f9-a7b9-536157e2e58b",
   "metadata": {},
   "outputs": [
    {
     "name": "stdout",
     "output_type": "stream",
     "text": [
      "43\n",
      "34\n",
      "Sub: 9\n"
     ]
    }
   ],
   "source": [
    "a=43\n",
    "b=34\n",
    "sub=a-b\n",
    "print(a)\n",
    "print(b)\n",
    "print(\"Sub:\",sub)"
   ]
  },
  {
   "cell_type": "code",
   "execution_count": 8,
   "id": "721be4b4-ab57-417a-b5d9-b7b92216c9af",
   "metadata": {},
   "outputs": [
    {
     "name": "stdout",
     "output_type": "stream",
     "text": [
      "63\n",
      "97\n",
      "mul: 6111\n"
     ]
    }
   ],
   "source": [
    "a=63\n",
    "b=97\n",
    "mul=a*b\n",
    "print(a)\n",
    "print(b)\n",
    "print(\"mul:\",mul)"
   ]
  },
  {
   "cell_type": "code",
   "execution_count": 9,
   "id": "744c0cd5-5cae-4d10-9f44-9fdc4176a2b3",
   "metadata": {},
   "outputs": [
    {
     "name": "stdout",
     "output_type": "stream",
     "text": [
      "76\n",
      "31\n",
      "Float div: 2.4516129032258065\n"
     ]
    }
   ],
   "source": [
    "a=76\n",
    "b=31\n",
    "float_div=a/b\n",
    "print(a)\n",
    "print(b)\n",
    "print(\"Float div:\",float_div)"
   ]
  },
  {
   "cell_type": "code",
   "execution_count": 10,
   "id": "4631b42f-a31d-4d89-bcff-7295920acf93",
   "metadata": {},
   "outputs": [
    {
     "name": "stdout",
     "output_type": "stream",
     "text": [
      "Floor Div: 2\n"
     ]
    }
   ],
   "source": [
    "a = 76\n",
    "b = 31\n",
    "floor_div = a // b\n",
    "print(\"Floor Div:\",floor_div)"
   ]
  },
  {
   "cell_type": "code",
   "execution_count": 11,
   "id": "35076648-5ce3-4865-b542-60bd31235bf2",
   "metadata": {},
   "outputs": [
    {
     "name": "stdout",
     "output_type": "stream",
     "text": [
      "Modulo: 14\n"
     ]
    }
   ],
   "source": [
    "a = 76\n",
    "b = 31\n",
    "modulo = a%b\n",
    "print(\"Modulo:\",modulo)"
   ]
  },
  {
   "cell_type": "code",
   "execution_count": 12,
   "id": "d391e0e0-bd56-4540-b8d1-b44c87d27abd",
   "metadata": {},
   "outputs": [
    {
     "name": "stdout",
     "output_type": "stream",
     "text": [
      "Power: 256\n"
     ]
    }
   ],
   "source": [
    "a=4\n",
    "b=4\n",
    "power=a**b\n",
    "print(\"Power:\",power)"
   ]
  }
 ],
 "metadata": {
  "kernelspec": {
   "display_name": "Python [conda env:base] *",
   "language": "python",
   "name": "conda-base-py"
  },
  "language_info": {
   "codemirror_mode": {
    "name": "ipython",
    "version": 3
   },
   "file_extension": ".py",
   "mimetype": "text/x-python",
   "name": "python",
   "nbconvert_exporter": "python",
   "pygments_lexer": "ipython3",
   "version": "3.13.5"
  }
 },
 "nbformat": 4,
 "nbformat_minor": 5
}
