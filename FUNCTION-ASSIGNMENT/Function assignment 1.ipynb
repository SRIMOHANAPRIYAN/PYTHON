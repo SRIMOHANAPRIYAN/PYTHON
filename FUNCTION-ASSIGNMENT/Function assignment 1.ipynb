{
 "cells": [
  {
   "cell_type": "code",
   "execution_count": 1,
   "id": "db31999b-2687-466a-8302-cedba4aa0c5c",
   "metadata": {},
   "outputs": [
    {
     "name": "stdout",
     "output_type": "stream",
     "text": [
      "Subfields in AI are: \n",
      "Machine Learning\n",
      "Neural Network\n",
      "Vision\n",
      "Robotics\n",
      "Speech Processing\n",
      "Natural Language Processing\n"
     ]
    }
   ],
   "source": [
    "def subfields():\n",
    "    print(\"Subfields in AI are: \")\n",
    "    print(\"Machine Learning\")\n",
    "    print(\"Neural Network\")\n",
    "    print(\"Vision\")\n",
    "    print(\"Robotics\")\n",
    "    print(\"Speech Processing\")\n",
    "    print(\"Natural Language Processing\")\n",
    "subfields()"
   ]
  },
  {
   "cell_type": "code",
   "execution_count": 9,
   "id": "24028593-6b0c-4c4c-ac4b-1749973e858b",
   "metadata": {},
   "outputs": [
    {
     "name": "stdin",
     "output_type": "stream",
     "text": [
      "Enter a number: 52652\n"
     ]
    },
    {
     "name": "stdout",
     "output_type": "stream",
     "text": [
      "52652 is even number\n"
     ]
    }
   ],
   "source": [
    "def oddEven():\n",
    "    num=int(input(\"Enter a number:\"))\n",
    "    if(num%2==0):\n",
    "        print(f\"{num} is even number\")\n",
    "        mess=f\"{num} is even number\"\n",
    "    else:\n",
    "        print(f\"{num} is odd number\")\n",
    "        mess=f\"{num} is odd number\"\n",
    "        return mess\n",
    "oddEven()"
   ]
  },
  {
   "cell_type": "code",
   "execution_count": 1,
   "id": "e8ae91d9-68f9-42f9-887c-24d0a13f976a",
   "metadata": {},
   "outputs": [
    {
     "name": "stdin",
     "output_type": "stream",
     "text": [
      "Your gender:  male\n",
      "Your age:  20\n"
     ]
    },
    {
     "name": "stdout",
     "output_type": "stream",
     "text": [
      "Not eligible\n"
     ]
    }
   ],
   "source": [
    "def MarriageEligibility(gender,age):\n",
    "    if gender == \"male\":\n",
    "        if age >= 21:\n",
    "            print(\"Eligible\")\n",
    "            message=\"Eligible\"\n",
    "        else:\n",
    "            print(\"Not eligible\")\n",
    "            message=\"Not eligible\"\n",
    "    elif gender == \"female\":\n",
    "        if age >= 18:\n",
    "            print(\"Eligible\")\n",
    "            message=\"Eligible\"\n",
    "        else:\n",
    "            print(\"Not eligible\")\n",
    "            message=\"Not eligible\"\n",
    "    else:\n",
    "        print(\"Invalid gender\")\n",
    "        message=\"Invalid gender\"\n",
    "        return message\n",
    "gender = input(\"Your gender: \")\n",
    "age = int(input(\"Your age: \"))\n",
    "MarriageEligibility(gender,age)"
   ]
  },
  {
   "cell_type": "code",
   "execution_count": 8,
   "id": "79149d31-4fef-4d72-af3c-ed7b14085917",
   "metadata": {},
   "outputs": [
    {
     "name": "stdin",
     "output_type": "stream",
     "text": [
      "Subject1:  98\n",
      "Subject2:  95\n",
      "Subject3:  96\n",
      "Subject4:  84\n",
      "Subject5:  87\n"
     ]
    },
    {
     "name": "stdout",
     "output_type": "stream",
     "text": [
      "Total:  460\n",
      "Percentage:  92.0\n"
     ]
    },
    {
     "data": {
      "text/plain": [
       "('Percentage: ', 92.0)"
      ]
     },
     "execution_count": 8,
     "metadata": {},
     "output_type": "execute_result"
    }
   ],
   "source": [
    "def FindPercentage():\n",
    "    num1=int(input(\"Subject1: \"))\n",
    "    num2=int(input(\"Subject2: \"))\n",
    "    num3=int(input(\"Subject3: \"))\n",
    "    num4=int(input(\"Subject4: \"))\n",
    "    num5=int(input(\"Subject5: \"))\n",
    "    total=num1+num2+num3+num4+num5\n",
    "    percentage=total/500*100\n",
    "    print(\"Total: \",total)\n",
    "    message=\"Total: \",total\n",
    "    print(\"Percentage: \",percentage)\n",
    "    message=\"Percentage: \",percentage\n",
    "    return message\n",
    "FindPercentage()"
   ]
  },
  {
   "cell_type": "code",
   "execution_count": 16,
   "id": "0fa51c2b-0f5d-4731-8226-cb3df6f14c57",
   "metadata": {},
   "outputs": [
    {
     "name": "stdin",
     "output_type": "stream",
     "text": [
      "Height: 32\n",
      "Weight: 34\n"
     ]
    },
    {
     "name": "stdout",
     "output_type": "stream",
     "text": [
      "Area formula :(Height*Weight)/2\n",
      "Area of triangle: 544.0\n"
     ]
    },
    {
     "name": "stdin",
     "output_type": "stream",
     "text": [
      "Height1: 2\n",
      "Height2: 4\n",
      "Breath: 4\n"
     ]
    },
    {
     "name": "stdout",
     "output_type": "stream",
     "text": [
      "perimeter formula: Height1+Height2+Breath\n",
      "perimeter of triangle: 10\n"
     ]
    }
   ],
   "source": [
    "def triangle():\n",
    "    Height=int(input(\"Height:\"))\n",
    "    Weight=int(input(\"Weight:\"))\n",
    "    print(\"Area formula :(Height*Weight)/2\")\n",
    "    mull=(Height*Weight)/2\n",
    "    print(\"Area of triangle:\",mull)\n",
    "    Height1=int(input(\"Height1:\"))\n",
    "    Height2=int(input(\"Height2:\"))\n",
    "    Breath=int(input(\"Breath:\"))\n",
    "    print(\"perimeter formula: Height1+Height2+Breath\")\n",
    "    total=Height1+Height2+Breath\n",
    "    print(\"perimeter of triangle:\",total)\n",
    "triangle()"
   ]
  }
 ],
 "metadata": {
  "kernelspec": {
   "display_name": "Python [conda env:base] *",
   "language": "python",
   "name": "conda-base-py"
  },
  "language_info": {
   "codemirror_mode": {
    "name": "ipython",
    "version": 3
   },
   "file_extension": ".py",
   "mimetype": "text/x-python",
   "name": "python",
   "nbconvert_exporter": "python",
   "pygments_lexer": "ipython3",
   "version": "3.13.5"
  }
 },
 "nbformat": 4,
 "nbformat_minor": 5
}
