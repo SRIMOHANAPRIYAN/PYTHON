{
 "cells": [
  {
   "cell_type": "code",
   "execution_count": null,
   "id": "f59c86d0-3cbe-4ddd-9bc1-cfa065d2d6b2",
   "metadata": {},
   "outputs": [],
   "source": [
    "# A user is required to enter a valid number in a form, but users sometimes input invalid data.\n",
    "# Write logic to repeatedly prompt the user until they enter a valid integer\n",
    "\n",
    "1. get the valid num from the user_input\n",
    "2. check if the input can converted to integer\n",
    "3. if input isn't valid integer display error msg and repeat promt\n",
    "4. if input is valid integer then store it and then exit the loop\n",
    "5. continue the steps and check until a valid integer receive."
   ]
  },
  {
   "cell_type": "code",
   "execution_count": null,
   "id": "fb2d3516-6a6f-43a7-bd15-b5ee5293e36d",
   "metadata": {},
   "outputs": [],
   "source": [
    "# A data analysis tool processes a list of numbers and needs to identify the most frequently occurring value.\n",
    "# Write logic to find the most frequently occurring number in a given list.\n",
    "\n",
    "1. take a numbers from user\n",
    "2. create empty list to store the count of each number\n",
    "3. itrate through each number in list\n",
    "4. for every number check if it exit as key in dictionary\n",
    "5. if number is not key add it to dictionary with intial count of 1\n",
    "6. if num is already key increase count by 1\n",
    "7. after counting all numbers find numbers with highest count in dictionary\n",
    "8. if multiple num has same highest count select any one of them as most frequent\n",
    "9. atlast return the highest number.\n"
   ]
  },
  {
   "cell_type": "code",
   "execution_count": null,
   "id": "4a8bdd50-1143-4dfc-bd89-328843f3b1f5",
   "metadata": {},
   "outputs": [],
   "source": [
    "# A text-processing application needs to compare words and check if they are anagrams (contain the same letters in a different order).\n",
    "# Write logic to determine whether two given strings are anagrams.\n",
    "\n",
    "1. take 2 string as input from the user\n",
    "2. convert both string to lowercase to check case sensitive comparision\n",
    "3. remove any space and special character from both string \n",
    "4. check the length of both processed string are equal if not they are not anagram\n",
    "5. sort the character in both strings\n",
    "6. compare the sorted string if they are same \n",
    "7. if the sorted string differ, the original string is not anagram."
   ]
  },
  {
   "cell_type": "code",
   "execution_count": null,
   "id": "8a975673-13ee-4b9b-8875-5b71d25c34f5",
   "metadata": {},
   "outputs": [],
   "source": [
    "# A speech analysis program needs to count the number of vowel sounds in a given input.\n",
    "# Write logic to count the number of vowels in a given string.\n",
    "\n",
    "1. take a string from user\n",
    "2. convert string to lowercase\n",
    "3. define a vowels (a,e,i,o,u)\n",
    "4. initialize a counter variable as 0 to track no.of.vowels\n",
    "5. iterate through each character in string\n",
    "6. for each character check if it is presesnt in vowels or not.\n",
    "7. if char is vowel increament the counter by 1\n",
    "8. atlast return the value "
   ]
  },
  {
   "cell_type": "code",
   "execution_count": null,
   "id": "f80bbace-3f07-4217-9ce3-9f693aac4d6f",
   "metadata": {},
   "outputs": [],
   "source": [
    "# A text-editing software includes a feature to reverse the order of words in a sentence for stylistic effects.\n",
    "# Write logic to reverse the order of words in a sentence while keeping the words themselves intact.\n",
    "\n",
    "1. get input frm user\n",
    "2. split the sentence into list of words using space as delimeter\n",
    "3. create a empty list to store reversed order words\n",
    "4. iterate through list of words in reverse order frm last to first\n",
    "5. add each word to new list while maintaining its original form\n",
    "6. join the words in new list back into a single string using space b/w words\n",
    "7. return the string in reversed order."
   ]
  },
  {
   "cell_type": "code",
   "execution_count": null,
   "id": "7716f09c-0da4-4148-a9fb-008ae090e460",
   "metadata": {},
   "outputs": [],
   "source": [
    "# A missing number is detected in a sequence of values stored in a database.\n",
    "# Write logic to find the missing number in a list containing n-1 numbers from 1 to n.\n",
    "\n",
    "1. take input frm user as list of n-1 numbers\n",
    "2. determine the value of n by adding 1 to the length of list as list should contain numbers frm 1 to n with one missing\n",
    "3. calculate the sum of numbers frm 1 to n using(n*(n+1))/2\n",
    "4. compute actual sum of numbers present in input list\n",
    "5. find the missing number by subtracting the actual sum frm expected sum\n",
    "6. return the result"
   ]
  },
  {
   "cell_type": "code",
   "execution_count": null,
   "id": "6d2ccd8b-55a8-4696-8c35-86b388b3ebaf",
   "metadata": {},
   "outputs": [],
   "source": [
    "# An ATM machine processes withdrawal requests and needs to ensure that users cannot withdraw more than their account balance.\n",
    "# Write logic to allow a withdrawal only if the balance is sufficient.\n",
    "\n",
    "1. take the amount frm user to withdraw\n",
    "2. retrive the current balance available in account\n",
    "3. compare the withdraw amount frm current balance\n",
    "4. if withdraw amount is greater than balance display msg insufficient balance and deny the withdraw\n",
    "5. if withdraw amount is <= to balance proceed the withdrawl\n",
    "6. subtract withdrawl amount from current balance to update current balance\n",
    "7. conform the transcation and display the current balance to user"
   ]
  },
  {
   "cell_type": "code",
   "execution_count": null,
   "id": "807a8ab2-5467-4aa4-826a-1ea068f31147",
   "metadata": {},
   "outputs": [],
   "source": [
    "# A system needs to verify whether a given dataset contains duplicate entries.\n",
    "# Write logic to check whether a given list contains duplicate values.\n",
    "\n",
    "1. take i/p frm user \n",
    "2. create a empty set to store unique element\n",
    "3. iterate through each element in list\n",
    "4. for each element check if it is already exist in set\n",
    "5. if the element is not in set add it to set\n",
    "6. if element already in set identify it as duplicate and stop check further\n",
    "7. compare original list length with length of set\n",
    "8. if length are different conclude that it contain duplicate value\n",
    "9. if length are same conclude that list has no duplicate values."
   ]
  },
  {
   "cell_type": "code",
   "execution_count": null,
   "id": "7b056408-9846-414d-84d6-445fe5d86bda",
   "metadata": {},
   "outputs": [],
   "source": [
    "# A digital calculator includes a feature to sum the digits of a number for verification purposes.\n",
    "# Write logic to calculate the sum of all digits in a given integer.\n",
    "\n",
    "1. take i/p frm user\n",
    "2. initialize a variable as 0\n",
    "3. convert the integer to string to iterate through digits\n",
    "4. iterate through each char in string\n",
    "5. convert each character back as int and add it to sum variable\n",
    "6. after all process done return the sum as total of all digit"
   ]
  },
  {
   "cell_type": "code",
   "execution_count": null,
   "id": "cbd36ba4-1907-4d8d-ad50-41a608090be6",
   "metadata": {},
   "outputs": [],
   "source": [
    "# A language-learning app wants to verify whether a given sentence is a pangram (contains every letter of the alphabet at least once).\n",
    "# Write logic to check if a given sentence is a pangram.\n",
    "\n",
    "1. take i/p string frm user\n",
    "2. convert the string to lower case for case sensitive\n",
    "3. remove all space and special characters\n",
    "4. create a set to store unique characters from sentence\n",
    "5. iterate through each character in processed string\n",
    "6. add each character to set if it is a letter\n",
    "7. check if the size of set is 26 as pangram \n",
    "8. if set size is 26 consider the sentence as pangram, if less then 26 it is not pangram"
   ]
  }
 ],
 "metadata": {
  "kernelspec": {
   "display_name": "Python [conda env:base] *",
   "language": "python",
   "name": "conda-base-py"
  },
  "language_info": {
   "codemirror_mode": {
    "name": "ipython",
    "version": 3
   },
   "file_extension": ".py",
   "mimetype": "text/x-python",
   "name": "python",
   "nbconvert_exporter": "python",
   "pygments_lexer": "ipython3",
   "version": "3.13.5"
  }
 },
 "nbformat": 4,
 "nbformat_minor": 5
}
