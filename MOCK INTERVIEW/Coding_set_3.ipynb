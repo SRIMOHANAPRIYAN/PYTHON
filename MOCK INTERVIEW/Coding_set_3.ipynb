{
 "cells": [
  {
   "cell_type": "code",
   "execution_count": 1,
   "id": "511e5dbe",
   "metadata": {
    "id": "511e5dbe"
   },
   "outputs": [
    {
     "name": "stdout",
     "output_type": "stream",
     "text": [
      "1 4 9 16 25 "
     ]
    }
   ],
   "source": [
    "# #1. Square of Numbers from 1 to 5\n",
    "# Output:\n",
    "# 1 4 9 16 25\n",
    "\n",
    "for num in range(1,6):\n",
    "    square=num*num\n",
    "    print(square,end=\" \")"
   ]
  },
  {
   "cell_type": "code",
   "execution_count": 2,
   "id": "e886abee",
   "metadata": {
    "id": "e886abee"
   },
   "outputs": [
    {
     "name": "stdout",
     "output_type": "stream",
     "text": [
      "a= 10 b= 5\n"
     ]
    }
   ],
   "source": [
    "# #2.Swap Two Variables Without Using a Temporary Variable\n",
    "# Question: Write a Python program to swap two variables a = 5 and b = 10 without using a temporary variable.\n",
    "\n",
    "a=5\n",
    "b=10\n",
    "a=a+b\n",
    "b=a-b\n",
    "a=a-b\n",
    "print(\"a=\",a,\"b=\",b)"
   ]
  },
  {
   "cell_type": "code",
   "execution_count": 3,
   "id": "adfc0479",
   "metadata": {
    "id": "adfc0479"
   },
   "outputs": [
    {
     "name": "stdout",
     "output_type": "stream",
     "text": [
      "Even numbers [12, 24, 40, 56]\n",
      "Odd numbers [17, 19, 35]\n"
     ]
    }
   ],
   "source": [
    "#  #3.Find Even and Odd Numbers in a List\n",
    "# Question: Write a Python program to separate even and odd numbers from the list [12, 17, 19, 24, 35, 40, 56].\n",
    "\n",
    "numbers=[12, 17, 19, 24, 35, 40, 56]\n",
    "even=[]\n",
    "odd=[]\n",
    "for num in numbers:\n",
    "    if num%2==0:\n",
    "        even.append(num)\n",
    "    else:\n",
    "        odd.append(num)\n",
    "print(\"Even numbers\",even)\n",
    "print(\"Odd numbers\",odd)"
   ]
  },
  {
   "cell_type": "code",
   "execution_count": 4,
   "id": "9bd0afd7",
   "metadata": {
    "id": "9bd0afd7"
   },
   "outputs": [
    {
     "name": "stdout",
     "output_type": "stream",
     "text": [
      "The reversed number is: 54321\n"
     ]
    }
   ],
   "source": [
    "# #4. Reverse a Number\n",
    "# Question: Write a Python program to reverse the number 12345.\n",
    "\n",
    "num=12345\n",
    "reverse_num=0\n",
    "while num>0:\n",
    "    digit =num%10\n",
    "    reverse_num=reverse_num*10+digit\n",
    "    num=num//10\n",
    "print(\"The reversed number is:\",reverse_num)"
   ]
  },
  {
   "cell_type": "code",
   "execution_count": 5,
   "id": "baf1f666",
   "metadata": {
    "id": "baf1f666"
   },
   "outputs": [
    {
     "name": "stdout",
     "output_type": "stream",
     "text": [
      "second largest number: 45\n"
     ]
    }
   ],
   "source": [
    "# #5. Find the Second Largest Number in a List\n",
    "# Question: Write a Python program to find the second largest number in the list [12, 45, 98, 34, 23].\n",
    "\n",
    "num=[12, 45, 98, 34, 23]\n",
    "num.sort(reverse=True)\n",
    "second_largest=num[1]\n",
    "print(\"second largest number:\",second_largest)"
   ]
  },
  {
   "cell_type": "code",
   "execution_count": null,
   "id": "eb6e77d2",
   "metadata": {
    "id": "eb6e77d2"
   },
   "outputs": [],
   "source": []
  },
  {
   "cell_type": "code",
   "execution_count": null,
   "id": "cf27438f",
   "metadata": {
    "id": "cf27438f"
   },
   "outputs": [],
   "source": []
  },
  {
   "cell_type": "code",
   "execution_count": null,
   "id": "8a8e84b3",
   "metadata": {
    "id": "8a8e84b3"
   },
   "outputs": [],
   "source": []
  },
  {
   "cell_type": "code",
   "execution_count": null,
   "id": "a73f86c4",
   "metadata": {
    "id": "a73f86c4"
   },
   "outputs": [],
   "source": []
  }
 ],
 "metadata": {
  "colab": {
   "provenance": []
  },
  "kernelspec": {
   "display_name": "Python [conda env:base] *",
   "language": "python",
   "name": "conda-base-py"
  },
  "language_info": {
   "codemirror_mode": {
    "name": "ipython",
    "version": 3
   },
   "file_extension": ".py",
   "mimetype": "text/x-python",
   "name": "python",
   "nbconvert_exporter": "python",
   "pygments_lexer": "ipython3",
   "version": "3.13.5"
  }
 },
 "nbformat": 4,
 "nbformat_minor": 5
}
