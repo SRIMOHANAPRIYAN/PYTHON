{
 "cells": [
  {
   "cell_type": "code",
   "execution_count": 16,
   "id": "e0cda6bb",
   "metadata": {
    "id": "e0cda6bb"
   },
   "outputs": [],
   "source": [
    "#1.What is wrong with the following function definition, and how do you fix it?\n",
    "\n",
    "# SEMICOLAN WAS MISSING IN FUNCTION\n",
    "def say_hello(name):\n",
    "    print(\"Hello, \",name)\n"
   ]
  },
  {
   "cell_type": "code",
   "execution_count": 17,
   "id": "8e33c083",
   "metadata": {
    "id": "8e33c083"
   },
   "outputs": [
    {
     "name": "stdout",
     "output_type": "stream",
     "text": [
      "I am  25  years old\n"
     ]
    }
   ],
   "source": [
    "#2.What error will occur in the following code, and how do you fix it?\n",
    "\n",
    "# USE COMMA INSTEAD OF +\n",
    "age = 25\n",
    "print(\"I am \",age,\" years old\")\n"
   ]
  },
  {
   "cell_type": "code",
   "execution_count": 18,
   "id": "52da6958",
   "metadata": {
    "id": "52da6958"
   },
   "outputs": [],
   "source": [
    "# #3.Question:\n",
    "# What is the issue with the following code?\n",
    "\n",
    "def greet(message):\n",
    "    print(message)\n",
    "message=\"hello\"\n"
   ]
  },
  {
   "cell_type": "code",
   "execution_count": 19,
   "id": "98d811ab",
   "metadata": {
    "id": "98d811ab"
   },
   "outputs": [
    {
     "name": "stdout",
     "output_type": "stream",
     "text": [
      "10\n"
     ]
    }
   ],
   "source": [
    "#4.What error will occur in the following code, and how do you fix it?\n",
    "\n",
    "# VALUE FOR B IS NOT ASSIGNED\n",
    "def add(a, b):\n",
    "    return a + b\n",
    "\n",
    "print(add(5,5))\n"
   ]
  },
  {
   "cell_type": "code",
   "execution_count": 20,
   "id": "87cdb40a",
   "metadata": {
    "id": "87cdb40a"
   },
   "outputs": [],
   "source": [
    "#5.What is wrong with this code?\n",
    "\n",
    "# ELSE IS NOT REQUIRED \n",
    "def is_even(n):\n",
    "    if n % 2 == 0:\n",
    "        return True\n",
    "    return False\n"
   ]
  },
  {
   "cell_type": "code",
   "execution_count": 21,
   "id": "9849beed",
   "metadata": {
    "id": "9849beed"
   },
   "outputs": [
    {
     "name": "stdout",
     "output_type": "stream",
     "text": [
      "10\n"
     ]
    }
   ],
   "source": [
    "#6.What happens when you run this code?\n",
    "\n",
    "# REMOVE A NON NUMERIC VALUE?\n",
    "num = int(\"10\")\n",
    "print(num)\n"
   ]
  },
  {
   "cell_type": "code",
   "execution_count": 22,
   "id": "e2de2ed1",
   "metadata": {
    "id": "e2de2ed1"
   },
   "outputs": [
    {
     "name": "stdout",
     "output_type": "stream",
     "text": [
      "[4, 3, 2, 1]\n"
     ]
    }
   ],
   "source": [
    "#7.What will happen when you run the following code?\n",
    "\n",
    "# IT WILL SHOW ERROR, IF WE GIVE SORT AND REVERSE IN SAME LINE\n",
    "numbers = [1, 2, 3, 4]\n",
    "numbers.sort()\n",
    "numbers.reverse()\n",
    "print(numbers)\n"
   ]
  },
  {
   "cell_type": "code",
   "execution_count": 23,
   "id": "76c3f328",
   "metadata": {
    "id": "76c3f328"
   },
   "outputs": [
    {
     "name": "stdout",
     "output_type": "stream",
     "text": [
      "[1, 2, 3, 4]\n"
     ]
    }
   ],
   "source": [
    "#8.What is the issue with this code?\n",
    "\n",
    "# FOR APPENDING VARIABLE COULDN'T BE MENTIONED\n",
    "numbers = [1, 2, 3]\n",
    "numbers.append(4)\n",
    "print(numbers)\n"
   ]
  },
  {
   "cell_type": "code",
   "execution_count": 24,
   "id": "4e03b70d",
   "metadata": {
    "id": "4e03b70d"
   },
   "outputs": [
    {
     "name": "stdout",
     "output_type": "stream",
     "text": [
      "11\n"
     ]
    }
   ],
   "source": [
    "#9.What will happen when you run the following code?\n",
    "\n",
    "# WE WANT TO DECLARE COUNT WITHIN THE FUNCTION\n",
    "def increment():\n",
    "    count = 10\n",
    "    count += 1\n",
    "    print(count)\n",
    "increment()\n"
   ]
  },
  {
   "cell_type": "code",
   "execution_count": 25,
   "id": "2034a700",
   "metadata": {
    "id": "2034a700"
   },
   "outputs": [
    {
     "name": "stdout",
     "output_type": "stream",
     "text": [
      "n\n"
     ]
    }
   ],
   "source": [
    "#10.What error will occur in the following code?\n",
    "\n",
    "# HERE THE COUNT OF THE STRING IS 5\n",
    "text = \"Python\"\n",
    "print(text[-1])\n"
   ]
  }
 ],
 "metadata": {
  "colab": {
   "provenance": []
  },
  "kernelspec": {
   "display_name": "Python [conda env:base] *",
   "language": "python",
   "name": "conda-base-py"
  },
  "language_info": {
   "codemirror_mode": {
    "name": "ipython",
    "version": 3
   },
   "file_extension": ".py",
   "mimetype": "text/x-python",
   "name": "python",
   "nbconvert_exporter": "python",
   "pygments_lexer": "ipython3",
   "version": "3.13.5"
  }
 },
 "nbformat": 4,
 "nbformat_minor": 5
}
