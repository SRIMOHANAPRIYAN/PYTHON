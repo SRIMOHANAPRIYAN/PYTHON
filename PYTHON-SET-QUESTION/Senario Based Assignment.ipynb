{
 "cells": [
  {
   "cell_type": "code",
   "execution_count": 1,
   "id": "8242f9cb-b9ee-4d0c-b07c-b337d020b2c7",
   "metadata": {},
   "outputs": [
    {
     "name": "stdin",
     "output_type": "stream",
     "text": [
      "Enter Your Age:  19\n"
     ]
    },
    {
     "name": "stdout",
     "output_type": "stream",
     "text": [
      "You Are Eligible To Vote\n"
     ]
    }
   ],
   "source": [
    "# VOTE ELIGIBLE CHECK\n",
    "\n",
    "age=int(input(\"Enter Your Age: \"))\n",
    "if(age>=18):\n",
    "    print(\"You Are Eligible To Vote\")\n",
    "else:\n",
    "    print(\"You Aren't Eligible To Vote\")"
   ]
  },
  {
   "cell_type": "code",
   "execution_count": 14,
   "id": "936563a9-54bd-4d5d-8367-a00d22944eb8",
   "metadata": {},
   "outputs": [
    {
     "name": "stdout",
     "output_type": "stream",
     "text": [
      "82 is a largest number in list\n"
     ]
    }
   ],
   "source": [
    "# FINDING THE LARGEST NUMBER IN LIST\n",
    "\n",
    "def largest_number():\n",
    "    List=[75,82,63,54,32,28]\n",
    "    largest_number=max(List)\n",
    "    print(largest_number, \"is a largest number in list\")\n",
    "largest_number()"
   ]
  },
  {
   "cell_type": "code",
   "execution_count": 17,
   "id": "0918553d-2817-44de-aeb3-e82db0977640",
   "metadata": {},
   "outputs": [
    {
     "name": "stdin",
     "output_type": "stream",
     "text": [
      "Enter the number:  11\n"
     ]
    },
    {
     "name": "stdout",
     "output_type": "stream",
     "text": [
      "11 is a odd number\n"
     ]
    }
   ],
   "source": [
    "# ODD OR EVEN\n",
    "\n",
    "num=int(input(\"Enter the number: \"))\n",
    "if(num%2==0):\n",
    "    print(num, \"is a even number\")\n",
    "else:\n",
    "    print(num, \"is a odd number\")"
   ]
  },
  {
   "cell_type": "code",
   "execution_count": 19,
   "id": "f40aa265-2870-4f27-9a07-f2147eac3efc",
   "metadata": {},
   "outputs": [
    {
     "name": "stdin",
     "output_type": "stream",
     "text": [
      "Enter Your Score:  41\n"
     ]
    },
    {
     "name": "stdout",
     "output_type": "stream",
     "text": [
      "Congratulations! You get passed in this subject\n"
     ]
    }
   ],
   "source": [
    "# CHECKING STUDENTS MARKS IF THEY ARE PASS OR FAIL\n",
    "\n",
    "Mark=int(input(\"Enter Your Score: \"))\n",
    "if(Mark>=40):\n",
    "    print(\"Congratulations! You get passed in this subject\")\n",
    "else:\n",
    "    print(\"Sorry.. you are fail\")"
   ]
  },
  {
   "cell_type": "code",
   "execution_count": 28,
   "id": "17d6ec00-948d-49c9-96da-511b72953e0c",
   "metadata": {},
   "outputs": [
    {
     "data": {
      "text/plain": [
       "[2, 4, 6]"
      ]
     },
     "execution_count": 28,
     "metadata": {},
     "output_type": "execute_result"
    }
   ],
   "source": [
    "# FILTERING EVEN NUMBERS FROM LIST\n",
    "\n",
    "def evenNumber():\n",
    "    numbers = [1, 2, 3, 4, 5, 6]  \n",
    "    even_numbers = []  \n",
    "    for i in numbers:  \n",
    "        if(i%2==0): \n",
    "            even_numbers.append(i)  \n",
    "    return even_numbers  \n",
    "evenNumber()"
   ]
  },
  {
   "cell_type": "code",
   "execution_count": 33,
   "id": "745d9dd8-16f2-4772-906f-32c6263da7ef",
   "metadata": {},
   "outputs": [
    {
     "name": "stdin",
     "output_type": "stream",
     "text": [
      "Enter the year:  2023\n"
     ]
    },
    {
     "name": "stdout",
     "output_type": "stream",
     "text": [
      "It is not a leap year\n"
     ]
    }
   ],
   "source": [
    "# LEAP YEAR\n",
    "\n",
    "def Leap_year():\n",
    "    year=int(input(\"Enter the year: \"))\n",
    "    if(year%4==0):\n",
    "        print(\"It is leap year\")\n",
    "    else:\n",
    "        print(\"It is not a leap year\")\n",
    "Leap_year()"
   ]
  },
  {
   "cell_type": "code",
   "execution_count": 40,
   "id": "136bd484-c0cf-49f6-8867-adc7c4b19c40",
   "metadata": {},
   "outputs": [
    {
     "name": "stdout",
     "output_type": "stream",
     "text": [
      "Attempting to withdraw 200 from account 7185425689\n",
      "Rs.200 debited from your account\n",
      "Current balance in your account:  99800\n"
     ]
    }
   ],
   "source": [
    "# WITHDRAW AMOUNT FROM BANK\n",
    "\n",
    "class BankAccount:\n",
    "    def __init__(self, account_number, balance=0.0):\n",
    "        self.account_number = account_number\n",
    "        self.balance = balance\n",
    "    \n",
    "    def withdraw(self, amount):\n",
    "        if amount <= self.balance:\n",
    "            self.balance -= amount\n",
    "        else:\n",
    "            print(\"Insufficient funds!\")\n",
    "        return self.balance\n",
    "account1 = BankAccount(account_number=\"7185425689\", balance=100000)\n",
    "withdrawal_amount = 200\n",
    "print(\"Attempting to withdraw\", withdrawal_amount, \"from account\", account1.account_number)\n",
    "print(\"Rs.200 debited from your account\")\n",
    "updated_balance = account1.withdraw(withdrawal_amount)\n",
    "print(\"Current balance in your account: \",updated_balance)"
   ]
  },
  {
   "cell_type": "code",
   "execution_count": 42,
   "id": "c3d843e3-25b4-4020-89d9-69355220d3f7",
   "metadata": {},
   "outputs": [
    {
     "name": "stdout",
     "output_type": "stream",
     "text": [
      "Processing order for:  125.5\n",
      "Total order amount:  125.5\n",
      "Discount applied:  25.1\n",
      "Final amount to be paid:  100.4\n",
      "The customer will pay:  100\n"
     ]
    }
   ],
   "source": [
    "# DISCOUNT APPLYING\n",
    "\n",
    "def calculate_final_amount(total_order_amount):\n",
    "    if total_order_amount > 100:\n",
    "        discount_percentage = 0.20 \n",
    "        discount_amount = total_order_amount * discount_percentage\n",
    "        final_amount = total_order_amount - discount_amount\n",
    "        print(\"Total order amount: \",total_order_amount) \n",
    "        print(\"Discount applied: \",discount_amount)\n",
    "        print(\"Final amount to be paid: \",final_amount)\n",
    "        return round(final_amount)\n",
    "    else:\n",
    "        final_amount = total_order_amount\n",
    "        print(\"Total order amount: \",total_order_amount)\n",
    "        print(\"No discount applied (order does not exceed $100).\")\n",
    "        print(\"Final amount to be paid: \",final_amount)\n",
    "        return round(final_amount)\n",
    "\n",
    "order_amount_1 = 125.50\n",
    "print(\"Processing order for: \",order_amount_1)\n",
    "final_amount_1 = calculate_final_amount(order_amount_1)\n",
    "print(\"The customer will pay: \",final_amount_1)\n"
   ]
  },
  {
   "cell_type": "code",
   "execution_count": 44,
   "id": "27969433-ccf2-4964-85f8-46b1458f025e",
   "metadata": {},
   "outputs": [
    {
     "name": "stdout",
     "output_type": "stream",
     "text": [
      "True\n",
      "True\n"
     ]
    }
   ],
   "source": [
    "# PALINDROME\n",
    "\n",
    "def palindrome(s):\n",
    "  s = s.lower().replace(\" \", \"\") \n",
    "  return s == s[::-1] \n",
    "print(palindrome(\"madam\")) \n",
    "print(palindrome(\"racecar\")) \n"
   ]
  },
  {
   "cell_type": "code",
   "execution_count": 46,
   "id": "f2864a56-01d0-4ecf-aa7d-8975162b5836",
   "metadata": {},
   "outputs": [
    {
     "name": "stdout",
     "output_type": "stream",
     "text": [
      "Employee with salary 60000 receives a bonus of 6000.0\n"
     ]
    }
   ],
   "source": [
    "# BONUS AMOUNT\n",
    "\n",
    "def calculate_bonus(salary):\n",
    "    if salary > 50000:\n",
    "        bonus = salary * 0.10  \n",
    "    else:\n",
    "        bonus = 0  \n",
    "    return bonus\n",
    "employee_salary_1 = 60000\n",
    "bonus_1 = calculate_bonus(employee_salary_1)\n",
    "print(\"Employee with salary\",employee_salary_1, \"receives a bonus of\", bonus_1)\n"
   ]
  }
 ],
 "metadata": {
  "kernelspec": {
   "display_name": "Python [conda env:base] *",
   "language": "python",
   "name": "conda-base-py"
  },
  "language_info": {
   "codemirror_mode": {
    "name": "ipython",
    "version": 3
   },
   "file_extension": ".py",
   "mimetype": "text/x-python",
   "name": "python",
   "nbconvert_exporter": "python",
   "pygments_lexer": "ipython3",
   "version": "3.13.5"
  }
 },
 "nbformat": 4,
 "nbformat_minor": 5
}
